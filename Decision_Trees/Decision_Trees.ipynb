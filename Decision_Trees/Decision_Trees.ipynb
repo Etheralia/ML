{
 "cells": [
  {
   "cell_type": "code",
   "execution_count": null,
   "metadata": {},
   "outputs": [],
   "source": [
    "import numpy as np\n",
    "import matplotlib.pyplot as plt\n",
    "import seaborn as sns\n",
    "from sklearn.model_selection import train_test_split\n",
    "\n",
    "np.random.seed(0)"
   ]
  },
  {
   "cell_type": "markdown",
   "metadata": {},
   "source": [
    "## 加载数据集"
   ]
  },
  {
   "cell_type": "code",
   "execution_count": null,
   "metadata": {},
   "outputs": [],
   "source": [
    "from sklearn.datasets import load_iris \n",
    "\n",
    "iris = load_iris() \n",
    "X = iris.data[:, : 2 ] # 我们只取前两个特征\n",
    "y = iris.target"
   ]
  },
  {
   "cell_type": "markdown",
   "metadata": {},
   "source": [
    "## 绘制数据集"
   ]
  },
  {
   "cell_type": "code",
   "execution_count": null,
   "metadata": {},
   "outputs": [],
   "source": [
    "sns.scatterplot(x=X[:, 0], y=X[:, 1], hue=iris.target_names[y], style=iris.target_names[y], \n",
    "                palette=['r','c','b'], markers=('s','o','^'), edgecolor='k')\n",
    "plt.xlabel(iris.feature_names[0])\n",
    "plt.ylabel(iris.feature_names[1])\n",
    "plt.legend()"
   ]
  },
  {
   "cell_type": "code",
   "execution_count": null,
   "metadata": {},
   "outputs": [],
   "source": [
    "X_train, X_test, y_train, y_test = train_test_split(X, y, random_state=42)"
   ]
  },
  {
   "cell_type": "code",
   "execution_count": null,
   "metadata": {},
   "outputs": [],
   "source": [
    "from sklearn.tree import DecisionTreeClassifier\n",
    "\n",
    "clf = DecisionTreeClassifier(random_state=42)\n",
    "clf.fit(X_train, y_train)"
   ]
  },
  {
   "cell_type": "code",
   "execution_count": null,
   "metadata": {},
   "outputs": [],
   "source": [
    "print ( f'训练准确率：{clf.score(X_train, y_train): .4 f} ' ) \n",
    "print ( f'测试准确率：{clf.score(X_test, y_test): .4 f} ' )"
   ]
  },
  {
   "cell_type": "code",
   "execution_count": null,
   "metadata": {},
   "outputs": [],
   "source": [
    "from matplotlib.colors import ListedColormap\n",
    "\n",
    "def plot_decision_boundaries(clf, X, y, feature_names, class_names, \n",
    "                             colors=['r', 'c', 'b'], markers=('s', 'o', '^')):  \n",
    "    cmap = ListedColormap(colors)\n",
    "     # 在范围 [x1_min, x1_max] x [x2_min, x2_max] 内创建 n 个样本点的网格\n",
    "    n = 1000 \n",
    "    x1_min, x1_max = X[:, 0 ]. min () - 1 , X[:, 0 ]. max () + 1\n",
    "    x2_min, x2_max = X[:, 1 ]. min () - 1 , X[:, 1 ]. max () + 1 \n",
    "    x1, x2 = np.meshgrid(np.linspace(x1_min, x1_max, n), np.linspace(x2_min, x2_max, n)) \n",
    "    \n",
    "    # 找到网格中每个点的标签\n",
    "    y_pred = clf.predict(np.c_[x1.ravel(), x2.ravel()]) \n",
    "    y_pred = y_pred.reshape(x1.shape) \n",
    "    \n",
    "    # 将结果放入彩色图中  \n",
    "    plt.contourf(x1, x2, y_pred, cmap=cmap, alpha= 0.4 ) \n",
    "    \n",
    "    # 绘制数据集中的点\n",
    "    sns.scatterplot(x=X[:, 0 ], y=X[:, 1 ], hue=class_names[y], style=class_names[y], \n",
    "                    palette=colors, markers=markers, edgecolor= 'k' ) \n",
    "    \n",
    "    plt.xlabel(特征名称[ 0 ]) \n",
    "    plt.ylabel(特征名称[ 1 ]) \n",
    "    plt.legend()"
   ]
  },
  {
   "cell_type": "code",
   "execution_count": null,
   "metadata": {},
   "outputs": [],
   "source": [
    "plot_decision_boundaries(clf，X，y，iris.feature_names，iris.target_names)"
   ]
  },
  {
   "cell_type": "markdown",
   "metadata": {},
   "source": [
    "## 树木修剪"
   ]
  },
  {
   "cell_type": "code",
   "execution_count": null,
   "metadata": {},
   "outputs": [],
   "source": [
    "clf = DecisionTreeClassifier(max_depth=3, random_state=42)\n",
    "clf.fit(X_train, y_train)"
   ]
  },
  {
   "cell_type": "code",
   "execution_count": null,
   "metadata": {},
   "outputs": [],
   "source": [
    "print ( f'训练准确率：{clf.score(X_train, y_train): .4 f} ' ) \n",
    "print ( f'测试准确率：{clf.score(X_test, y_test): .4 f} ' )"
   ]
  },
  {
   "cell_type": "code",
   "execution_count": null,
   "metadata": {},
   "outputs": [],
   "source": [
    "plot_decision_boundaries(clf，X，y，iris.feature_names，iris.target_names)"
   ]
  },
  {
   "cell_type": "markdown",
   "metadata": {},
   "source": [
    "## 可视化决策树"
   ]
  },
  {
   "cell_type": "code",
   "execution_count": null,
   "metadata": {},
   "outputs": [],
   "source": [
    "from sklearn import tree\n",
    "\n",
    "tree.plot_tree(clf, feature_names=iris.feature_names, \n",
    "               class_names=iris.target_names, filled=True, rounded=True)"
   ]
  }
 ],
 "metadata": {
  "kernelspec": {
   "display_name": "ML",
   "language": "python",
   "name": "python3"
  },
  "language_info": {
   "codemirror_mode": {
    "name": "ipython",
    "version": 3
   },
   "file_extension": ".py",
   "mimetype": "text/x-python",
   "name": "python",
   "nbconvert_exporter": "python",
   "pygments_lexer": "ipython3",
   "version": "3.12.4"
  }
 },
 "nbformat": 4,
 "nbformat_minor": 2
}
